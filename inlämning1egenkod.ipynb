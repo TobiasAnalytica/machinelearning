{
 "cells": [
  {
   "cell_type": "code",
   "execution_count": 11,
   "metadata": {},
   "outputs": [
    {
     "name": "stdout",
     "output_type": "stream",
     "text": [
      "Hämtade 243 artiklar från RSS-flöden.\n"
     ]
    }
   ],
   "source": [
    "# Detta script hämtar RSS-flöden från nyhetssajter\n",
    "\n",
    "# Det är strukturerat för att enkelt kunna importeras i ett annat script\n",
    "\n",
    "\n",
    "# Importera paket\n",
    "import feedparser\n",
    "\n",
    "############################# RSS-FEED Parser ##############################\n",
    "\n",
    "# Lista med RSS-URL:er\n",
    "RSS_URLS = ['http://www.dn.se/nyheter/m/rss/',\n",
    "            'https://rss.aftonbladet.se/rss2/small/pages/sections/senastenytt/', 'https://feeds.expressen.se/nyheter/',\n",
    "            'http://www.svd.se/?service=rss', 'http://api.sr.se/api/rss/program/83?format=145',\n",
    "            'http://www.svt.se/nyheter/rss.xml'\n",
    "              ]\n",
    "\n",
    "# Skapa en tom lista för att lagra artiklar\n",
    "posts = []\n",
    "\n",
    "# Loopar genom varje URL i RSS_URLS och hämtar artiklar\n",
    "for url in RSS_URLS:\n",
    "    # Hämta och analysera RSS-flödet\n",
    "    feed = feedparser.parse(url)\n",
    "    \n",
    "    # Iterera genom varje post i flödet\n",
    "    for entry in feed.entries:\n",
    "        # Strukturera artikeldata och lägg till i listan\n",
    "        post = {\n",
    "            'title': entry.title,\n",
    "            'link': entry.link,\n",
    "            'published': entry.published if 'published' in entry else None,\n",
    "            'summary': entry.summary if 'summary' in entry else None\n",
    "        }\n",
    "        posts.append(post)\n",
    "\n",
    "# Kontrollera att artiklar har hämtats\n",
    "print(f\"Hämtade {len(posts)} artiklar från RSS-flöden.\")\n",
    "\n"
   ]
  },
  {
   "cell_type": "code",
   "execution_count": 12,
   "metadata": {},
   "outputs": [
    {
     "ename": "IndentationError",
     "evalue": "unexpected indent (3014549594.py, line 7)",
     "output_type": "error",
     "traceback": [
      "\u001b[1;36m  Cell \u001b[1;32mIn[12], line 7\u001b[1;36m\u001b[0m\n\u001b[1;33m    for x in posts:\u001b[0m\n\u001b[1;37m    ^\u001b[0m\n\u001b[1;31mIndentationError\u001b[0m\u001b[1;31m:\u001b[0m unexpected indent\n"
     ]
    }
   ],
   "source": [
    "only_titles_and_summaries = []\n",
    "    \n",
    "    # TODO: Fill in the logic to extract \"title\" and \"summary\"\n",
    "    #       from each dictionary in 'posts', handling missing keys.\n",
    "    #\n",
    "    # Pseudocode:\n",
    "     for x in posts:\n",
    "         tempdict = {}\n",
    "         try:\n",
    "             tempdict[\"title\"] = x[\"title\"]\n",
    "         except KeyError:\n",
    "             tempdict[\"title\"] = \"\"\n",
    "    \n",
    "         try:\n",
    "             tempdict[\"summary\"] = x[\"summary\"]\n",
    "         except KeyError:\n",
    "             tempdict[\"summary\"] = \"\"\n",
    "    \n",
    "         only_titles_and_summaries.append(tempdict)\n",
    "    \n",
    "     return only_titles_and_summaries"
   ]
  }
 ],
 "metadata": {
  "kernelspec": {
   "display_name": "MachineLearning",
   "language": "python",
   "name": "python3"
  },
  "language_info": {
   "codemirror_mode": {
    "name": "ipython",
    "version": 3
   },
   "file_extension": ".py",
   "mimetype": "text/x-python",
   "name": "python",
   "nbconvert_exporter": "python",
   "pygments_lexer": "ipython3",
   "version": "3.13.1"
  }
 },
 "nbformat": 4,
 "nbformat_minor": 2
}
