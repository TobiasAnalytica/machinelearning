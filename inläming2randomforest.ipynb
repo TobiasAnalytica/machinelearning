{
 "cells": [
  {
   "cell_type": "code",
   "execution_count": 55,
   "metadata": {},
   "outputs": [
    {
     "name": "stderr",
     "output_type": "stream",
     "text": [
      "[nltk_data] Downloading package punkt_tab to C:\\Users\\Tobias\n",
      "[nltk_data]     E\\AppData\\Roaming\\nltk_data...\n",
      "[nltk_data]   Package punkt_tab is already up-to-date!\n"
     ]
    }
   ],
   "source": [
    "import re\n",
    "import sys\n",
    "import warnings\n",
    "import nltk\n",
    "import pandas as pd\n",
    "import numpy as np\n",
    "from nltk.corpus import stopwords\n",
    "from nltk.stem.snowball import SnowballStemmer\n",
    "from sklearn.model_selection import train_test_split\n",
    "from sklearn.feature_extraction.text import TfidfVectorizer\n",
    "\n",
    "nltk.download('punkt_tab')\n",
    "\n",
    "# Adjust this path to where your NLTK data is located\n",
    "nltk.data.path.append('C:\\\\Users\\\\Tobias E\\\\AppData\\\\Roaming\\\\nltk_data')\n",
    "\n",
    "# Suppress all warning messages\n",
    "if not sys.warnoptions:\n",
    "    warnings.simplefilter(\"ignore\")\n",
    "\n"
   ]
  },
  {
   "cell_type": "code",
   "execution_count": 56,
   "metadata": {},
   "outputs": [],
   "source": [
    "# 1. Load the data\n",
    "data_path = \"C:\\\\workspace\\\\book1.csv\"\n",
    "data_raw = pd.read_csv(data_path, encoding='latin1')"
   ]
  },
  {
   "cell_type": "code",
   "execution_count": 57,
   "metadata": {},
   "outputs": [],
   "source": [
    "# 2. Shuffle the data\n",
    "data_raw = data_raw.sample(frac=1)"
   ]
  },
  {
   "cell_type": "code",
   "execution_count": 58,
   "metadata": {},
   "outputs": [],
   "source": [
    "# 3. Identify category columns\n",
    "categories = list(data_raw.columns.values)\n",
    "categories = categories[2:]  # Adjust if your CSV structure changes"
   ]
  },
  {
   "cell_type": "code",
   "execution_count": 59,
   "metadata": {},
   "outputs": [],
   "source": [
    "# 4. Basic cleaning on the \"Heading\" column\n",
    "data_raw['Heading'] = (\n",
    "    data_raw['Heading']\n",
    "    .str.lower()\n",
    "    .str.replace('[^\\w\\s]', '', regex=True)     # remove punctuation\n",
    "    .str.replace('\\d+', '', regex=True)         # remove digits\n",
    "    .str.replace('<.*?>', '', regex=True)       # remove HTML tags\n",
    ")"
   ]
  },
  {
   "cell_type": "code",
   "execution_count": 60,
   "metadata": {},
   "outputs": [
    {
     "name": "stderr",
     "output_type": "stream",
     "text": [
      "[nltk_data] Downloading package stopwords to C:\\Users\\Tobias\n",
      "[nltk_data]     E\\AppData\\Roaming\\nltk_data...\n",
      "[nltk_data]   Package stopwords is already up-to-date!\n"
     ]
    }
   ],
   "source": [
    "# 5. Download stopwords and define your stop-word removal function\n",
    "nltk.download('stopwords')\n",
    "stop_words = set(stopwords.words('swedish'))\n",
    "\n",
    "def removeStopWords(sentence):\n",
    "    return \" \".join(\n",
    "        [word for word in nltk.word_tokenize(sentence) \n",
    "         if word not in stop_words]\n",
    "    )\n",
    "\n",
    "data_raw['Heading'] = data_raw['Heading'].apply(removeStopWords)"
   ]
  },
  {
   "cell_type": "code",
   "execution_count": 61,
   "metadata": {},
   "outputs": [],
   "source": [
    "# 6. (Optional) Stemming\n",
    "stemmer = SnowballStemmer(\"swedish\")\n",
    "\n",
    "def stemming(sentence):\n",
    "    stemSentence = \"\"\n",
    "    for word in sentence.split():\n",
    "        stemSentence += stemmer.stem(word) + \" \"\n",
    "    return stemSentence.strip()\n",
    "\n",
    "# If you want to apply stemming, uncomment:\n",
    "# data_raw['Heading'] = data_raw['Heading'].apply(stemming)"
   ]
  },
  {
   "cell_type": "code",
   "execution_count": 62,
   "metadata": {},
   "outputs": [],
   "source": [
    "# 7. Split the data\n",
    "train, test = train_test_split(data_raw, random_state=42, test_size=0.30, shuffle=True)\n",
    "\n",
    "train_text = train['Heading']\n",
    "test_text = test['Heading']"
   ]
  },
  {
   "cell_type": "code",
   "execution_count": 63,
   "metadata": {},
   "outputs": [],
   "source": [
    "# 8. Vectorize using TF-IDF\n",
    "vectorizer = TfidfVectorizer(strip_accents='unicode', \n",
    "                             analyzer='word', \n",
    "                             ngram_range=(1,3), \n",
    "                             norm='l2')\n",
    "vectorizer.fit(train_text)\n",
    "\n",
    "x_train = vectorizer.transform(train_text)\n",
    "y_train = train.drop(labels=['Id', 'Heading'], axis=1)\n",
    "\n",
    "x_test = vectorizer.transform(test_text)\n",
    "y_test = test.drop(labels=['Id', 'Heading'], axis=1)"
   ]
  },
  {
   "cell_type": "code",
   "execution_count": 64,
   "metadata": {},
   "outputs": [],
   "source": [
    "from sklearn.linear_model import LogisticRegression\n",
    "clf = LogisticRegression()"
   ]
  },
  {
   "cell_type": "code",
   "execution_count": 65,
   "metadata": {},
   "outputs": [],
   "source": [
    "# Fit the model for each category separately\n",
    "for category in y_train.columns:\n",
    "\tclf.fit(x_train, y_train[category])\n",
    "#\tprint(f\"Fitted model for category: {category}\")"
   ]
  },
  {
   "cell_type": "code",
   "execution_count": 66,
   "metadata": {},
   "outputs": [],
   "source": [
    "y_pred = clf.predict(x_test)"
   ]
  },
  {
   "cell_type": "code",
   "execution_count": null,
   "metadata": {},
   "outputs": [
    {
     "name": "stdout",
     "output_type": "stream",
     "text": [
      "Random Forest Model Evaluation\n",
      "                    precision    recall  f1-score   support\n",
      "\n",
      "           Politik       0.77      0.21      0.33       155\n",
      "        Utbildning       1.00      0.04      0.07        26\n",
      "          Religion       0.00      0.00      0.00         2\n",
      "             Miljo       0.86      0.14      0.24        42\n",
      "           Ekonomi       0.62      0.28      0.39       178\n",
      "     LivsstilFritt       0.86      0.14      0.24        87\n",
      "SamhalleKonflikter       0.77      0.31      0.44       235\n",
      "             Halsa       0.90      0.11      0.20        79\n",
      "            Idrott       1.00      0.04      0.08        51\n",
      "   VetenskapTeknik       0.80      0.11      0.19        38\n",
      "\n",
      "         micro avg       0.74      0.21      0.33       893\n",
      "         macro avg       0.76      0.14      0.22       893\n",
      "      weighted avg       0.78      0.21      0.32       893\n",
      "       samples avg       0.24      0.23      0.23       893\n",
      "\n",
      "Accuracy: 0.17\n"
     ]
    }
   ],
   "source": [
    "from sklearn.ensemble import RandomForestClassifier\n",
    "from sklearn.multiclass import OneVsRestClassifier\n",
    "from sklearn.metrics import classification_report, accuracy_score\n",
    "\n",
    "# 9. Train and evaluate Random Forest with OneVsRestClassifier\n",
    "rf_model = OneVsRestClassifier(RandomForestClassifier(n_estimators=200, random_state=42))\n",
    "rf_model.fit(x_train, y_train)\n",
    "\n",
    "# Predict on the test data\n",
    "rf_predictions = rf_model.predict(x_test)\n",
    "\n",
    "# Evaluate the model\n",
    "print(\"Random Forest Model Evaluation\")\n",
    "print(classification_report(y_test, rf_predictions, target_names=categories))\n",
    "print(f\"Accuracy: {accuracy_score(y_test, rf_predictions):.2f}\")\n"
   ]
  }
 ],
 "metadata": {
  "kernelspec": {
   "display_name": "MLInlamning2",
   "language": "python",
   "name": "python3"
  },
  "language_info": {
   "codemirror_mode": {
    "name": "ipython",
    "version": 3
   },
   "file_extension": ".py",
   "mimetype": "text/x-python",
   "name": "python",
   "nbconvert_exporter": "python",
   "pygments_lexer": "ipython3",
   "version": "3.12.8"
  }
 },
 "nbformat": 4,
 "nbformat_minor": 2
}
