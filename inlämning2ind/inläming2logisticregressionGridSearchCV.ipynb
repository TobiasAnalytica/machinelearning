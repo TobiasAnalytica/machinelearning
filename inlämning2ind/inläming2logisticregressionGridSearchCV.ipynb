{
 "cells": [
  {
   "cell_type": "code",
   "execution_count": 41,
   "metadata": {},
   "outputs": [
    {
     "name": "stderr",
     "output_type": "stream",
     "text": [
      "[nltk_data] Downloading package punkt_tab to C:\\Users\\Tobias\n",
      "[nltk_data]     E\\AppData\\Roaming\\nltk_data...\n",
      "[nltk_data]   Package punkt_tab is already up-to-date!\n"
     ]
    }
   ],
   "source": [
    "import re\n",
    "import sys\n",
    "import warnings\n",
    "import nltk\n",
    "import pandas as pd\n",
    "import numpy as np\n",
    "from nltk.corpus import stopwords\n",
    "from nltk.stem.snowball import SnowballStemmer\n",
    "from sklearn.model_selection import train_test_split\n",
    "from sklearn.feature_extraction.text import TfidfVectorizer\n",
    "\n",
    "nltk.download('punkt_tab')\n",
    "\n",
    "# Adjust this path to where your NLTK data is located\n",
    "nltk.data.path.append('C:\\\\Users\\\\Tobias E\\\\AppData\\\\Roaming\\\\nltk_data')\n",
    "\n",
    "# Suppress all warning messages\n",
    "if not sys.warnoptions:\n",
    "    warnings.simplefilter(\"ignore\")\n",
    "\n"
   ]
  },
  {
   "cell_type": "code",
   "execution_count": 42,
   "metadata": {},
   "outputs": [],
   "source": [
    "# 1. Load the data\n",
    "data_path = \"C:\\\\workspace\\\\book1.csv\"\n",
    "data_raw = pd.read_csv(data_path, encoding='latin1')"
   ]
  },
  {
   "cell_type": "code",
   "execution_count": 43,
   "metadata": {},
   "outputs": [],
   "source": [
    "# 2. Shuffle the data\n",
    "data_raw = data_raw.sample(frac=1)"
   ]
  },
  {
   "cell_type": "code",
   "execution_count": 44,
   "metadata": {},
   "outputs": [],
   "source": [
    "# 3. Identify category columns\n",
    "categories = list(data_raw.columns.values)\n",
    "categories = categories[2:]  # Adjust if your CSV structure changes"
   ]
  },
  {
   "cell_type": "code",
   "execution_count": 45,
   "metadata": {},
   "outputs": [],
   "source": [
    "# 4. Basic cleaning on the \"Heading\" column\n",
    "data_raw['Heading'] = (\n",
    "    data_raw['Heading']\n",
    "    .str.lower()\n",
    "    .str.replace('[^\\w\\s]', '', regex=True)     # remove punctuation\n",
    "    .str.replace('\\d+', '', regex=True)         # remove digits\n",
    "    .str.replace('<.*?>', '', regex=True)       # remove HTML tags\n",
    ")"
   ]
  },
  {
   "cell_type": "code",
   "execution_count": 46,
   "metadata": {},
   "outputs": [
    {
     "name": "stderr",
     "output_type": "stream",
     "text": [
      "[nltk_data] Downloading package stopwords to C:\\Users\\Tobias\n",
      "[nltk_data]     E\\AppData\\Roaming\\nltk_data...\n",
      "[nltk_data]   Package stopwords is already up-to-date!\n"
     ]
    }
   ],
   "source": [
    "# 5. Download stopwords and define your stop-word removal function\n",
    "nltk.download('stopwords')\n",
    "stop_words = set(stopwords.words('swedish'))\n",
    "\n",
    "def removeStopWords(sentence):\n",
    "    return \" \".join(\n",
    "        [word for word in nltk.word_tokenize(sentence) \n",
    "         if word not in stop_words]\n",
    "    )\n",
    "\n",
    "data_raw['Heading'] = data_raw['Heading'].apply(removeStopWords)"
   ]
  },
  {
   "cell_type": "code",
   "execution_count": 47,
   "metadata": {},
   "outputs": [],
   "source": [
    "# 6. (Optional) Stemming\n",
    "stemmer = SnowballStemmer(\"swedish\")\n",
    "\n",
    "def stemming(sentence):\n",
    "    stemSentence = \"\"\n",
    "    for word in sentence.split():\n",
    "        stemSentence += stemmer.stem(word) + \" \"\n",
    "    return stemSentence.strip()\n",
    "\n",
    "# If you want to apply stemming, uncomment:\n",
    "data_raw['Heading'] = data_raw['Heading'].apply(stemming)"
   ]
  },
  {
   "cell_type": "code",
   "execution_count": 48,
   "metadata": {},
   "outputs": [],
   "source": [
    "# 7. Split the data\n",
    "train, test = train_test_split(data_raw, random_state=42, test_size=0.30, shuffle=True)\n",
    "\n",
    "train_text = train['Heading']\n",
    "test_text = test['Heading']"
   ]
  },
  {
   "cell_type": "code",
   "execution_count": 49,
   "metadata": {},
   "outputs": [],
   "source": [
    "# 8. Vectorize using TF-IDF\n",
    "vectorizer = TfidfVectorizer(strip_accents='unicode', \n",
    "                             analyzer='word', \n",
    "                             ngram_range=(1,3), \n",
    "                             norm='l2')\n",
    "vectorizer.fit(train_text)\n",
    "\n",
    "x_train = vectorizer.transform(train_text)\n",
    "y_train = train.drop(labels=['Id', 'Heading'], axis=1)\n",
    "\n",
    "x_test = vectorizer.transform(test_text)\n",
    "y_test = test.drop(labels=['Id', 'Heading'], axis=1)"
   ]
  },
  {
   "cell_type": "code",
   "execution_count": 50,
   "metadata": {},
   "outputs": [],
   "source": [
    "from sklearn.linear_model import LogisticRegression\n",
    "clf = LogisticRegression()"
   ]
  },
  {
   "cell_type": "code",
   "execution_count": 51,
   "metadata": {},
   "outputs": [],
   "source": [
    "# Fit the model for each category separately\n",
    "for category in y_train.columns:\n",
    "\tclf.fit(x_train, y_train[category])\n",
    "#\tprint(f\"Fitted model for category: {category}\")"
   ]
  },
  {
   "cell_type": "code",
   "execution_count": 52,
   "metadata": {},
   "outputs": [],
   "source": [
    "y_pred = clf.predict(x_test)"
   ]
  },
  {
   "cell_type": "code",
   "execution_count": 53,
   "metadata": {},
   "outputs": [
    {
     "name": "stdout",
     "output_type": "stream",
     "text": [
      "Accuracy: 11.13%\n",
      "\n",
      "Classification Report:\n",
      "                    precision    recall  f1-score   support\n",
      "\n",
      "           Politik       0.68      0.18      0.28       152\n",
      "        Utbildning       0.00      0.00      0.00        15\n",
      "          Religion       0.00      0.00      0.00         5\n",
      "             Miljo       0.00      0.00      0.00        41\n",
      "           Ekonomi       0.81      0.21      0.33       165\n",
      "     LivsstilFritt       0.00      0.00      0.00        89\n",
      "SamhalleKonflikter       0.80      0.26      0.40       231\n",
      "             Halsa       1.00      0.03      0.05        78\n",
      "            Idrott       0.00      0.00      0.00        58\n",
      "   VetenskapTeknik       0.00      0.00      0.00        34\n",
      "\n",
      "         micro avg       0.78      0.14      0.24       868\n",
      "         macro avg       0.33      0.07      0.11       868\n",
      "      weighted avg       0.58      0.14      0.22       868\n",
      "       samples avg       0.16      0.15      0.15       868\n",
      "\n"
     ]
    }
   ],
   "source": [
    "from sklearn.linear_model import LogisticRegression\n",
    "from sklearn.multiclass import OneVsRestClassifier\n",
    "from sklearn.metrics import accuracy_score, classification_report\n",
    "\n",
    "# 9. Train the logistic regression model with OneVsRestClassifier\n",
    "logistic_model = LogisticRegression(max_iter=5000, random_state=42)\n",
    "one_vs_rest_classifier = OneVsRestClassifier(logistic_model)\n",
    "\n",
    "# Train the model\n",
    "one_vs_rest_classifier.fit(x_train, y_train)\n",
    "\n",
    "# 10. Make predictions\n",
    "y_pred = one_vs_rest_classifier.predict(x_test)\n",
    "\n",
    "# 11. Evaluate the model\n",
    "# Calculate accuracy\n",
    "accuracy = accuracy_score(y_test, y_pred)\n",
    "print(f\"Accuracy: {accuracy * 100:.2f}%\")\n",
    "\n",
    "# Detailed classification report\n",
    "print(\"\\nClassification Report:\")\n",
    "print(classification_report(y_test, y_pred, target_names=categories))\n"
   ]
  }
 ],
 "metadata": {
  "kernelspec": {
   "display_name": "MLInlamning2",
   "language": "python",
   "name": "python3"
  },
  "language_info": {
   "codemirror_mode": {
    "name": "ipython",
    "version": 3
   },
   "file_extension": ".py",
   "mimetype": "text/x-python",
   "name": "python",
   "nbconvert_exporter": "python",
   "pygments_lexer": "ipython3",
   "version": "3.12.8"
  }
 },
 "nbformat": 4,
 "nbformat_minor": 2
}
